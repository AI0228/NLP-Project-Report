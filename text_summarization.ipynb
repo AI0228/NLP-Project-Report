{
 "cells": [
  {
   "cell_type": "markdown",
   "metadata": {},
   "source": [
    "# Text Summarization\n",
    "## Find Text\n"
   ]
  },
  {
   "cell_type": "code",
   "execution_count": 4,
   "metadata": {},
   "outputs": [
    {
     "data": {
      "text/html": [
       "<div>\n",
       "<style scoped>\n",
       "    .dataframe tbody tr th:only-of-type {\n",
       "        vertical-align: middle;\n",
       "    }\n",
       "\n",
       "    .dataframe tbody tr th {\n",
       "        vertical-align: top;\n",
       "    }\n",
       "\n",
       "    .dataframe thead th {\n",
       "        text-align: right;\n",
       "    }\n",
       "</style>\n",
       "<table border=\"1\" class=\"dataframe\">\n",
       "  <thead>\n",
       "    <tr style=\"text-align: right;\">\n",
       "      <th></th>\n",
       "      <th>Text</th>\n",
       "      <th>clean</th>\n",
       "    </tr>\n",
       "  </thead>\n",
       "  <tbody>\n",
       "    <tr>\n",
       "      <th>0</th>\n",
       "      <td>&lt;font color=\"#ffff00\"&gt;Provided by explosivesku...</td>\n",
       "      <td>https://twitter.com/kaboomskull</td>\n",
       "    </tr>\n",
       "    <tr>\n",
       "      <th>11</th>\n",
       "      <td>[man] Hey!</td>\n",
       "      <td>Hey!</td>\n",
       "    </tr>\n",
       "    <tr>\n",
       "      <th>14</th>\n",
       "      <td>&lt;i&gt;Good evening and welcome to\\nGC-1 News live...</td>\n",
       "      <td>Good evening and welcome to\\nGC-1 News live at...</td>\n",
       "    </tr>\n",
       "    <tr>\n",
       "      <th>16</th>\n",
       "      <td>&lt;i&gt;just-released polls have\\nincumbent Mayor D...</td>\n",
       "      <td>just-released polls have\\nincumbent Mayor Don ...</td>\n",
       "    </tr>\n",
       "    <tr>\n",
       "      <th>17</th>\n",
       "      <td>&lt;i&gt;and 28-year-old grassroots challenger\\nBell...</td>\n",
       "      <td>and 28-year-old grassroots challenger\\nBella R...</td>\n",
       "    </tr>\n",
       "    <tr>\n",
       "      <th>...</th>\n",
       "      <td>...</td>\n",
       "      <td>...</td>\n",
       "    </tr>\n",
       "    <tr>\n",
       "      <th>2404</th>\n",
       "      <td>You should go.</td>\n",
       "      <td>You should go.</td>\n",
       "    </tr>\n",
       "    <tr>\n",
       "      <th>2405</th>\n",
       "      <td>Selina...</td>\n",
       "      <td>Selina...</td>\n",
       "    </tr>\n",
       "    <tr>\n",
       "      <th>2406</th>\n",
       "      <td>Take care of yourself.</td>\n",
       "      <td>Take care of yourself.</td>\n",
       "    </tr>\n",
       "    <tr>\n",
       "      <th>2414</th>\n",
       "      <td>&lt;font color=\"#ffff00\"&gt;Provided by explosivesku...</td>\n",
       "      <td>https://twitter.com/kaboomskull</td>\n",
       "    </tr>\n",
       "    <tr>\n",
       "      <th>2418</th>\n",
       "      <td>- [beep]\\n- [static crackles]</td>\n",
       "      <td>-  \\n-</td>\n",
       "    </tr>\n",
       "  </tbody>\n",
       "</table>\n",
       "<p>1573 rows × 2 columns</p>\n",
       "</div>"
      ],
      "text/plain": [
       "                                                   Text  \\\n",
       "0     <font color=\"#ffff00\">Provided by explosivesku...   \n",
       "11                                           [man] Hey!   \n",
       "14    <i>Good evening and welcome to\\nGC-1 News live...   \n",
       "16    <i>just-released polls have\\nincumbent Mayor D...   \n",
       "17    <i>and 28-year-old grassroots challenger\\nBell...   \n",
       "...                                                 ...   \n",
       "2404                                     You should go.   \n",
       "2405                                          Selina...   \n",
       "2406                             Take care of yourself.   \n",
       "2414  <font color=\"#ffff00\">Provided by explosivesku...   \n",
       "2418                      - [beep]\\n- [static crackles]   \n",
       "\n",
       "                                                  clean  \n",
       "0                       https://twitter.com/kaboomskull  \n",
       "11                                                 Hey!  \n",
       "14    Good evening and welcome to\\nGC-1 News live at...  \n",
       "16    just-released polls have\\nincumbent Mayor Don ...  \n",
       "17    and 28-year-old grassroots challenger\\nBella R...  \n",
       "...                                                 ...  \n",
       "2404                                     You should go.  \n",
       "2405                                          Selina...  \n",
       "2406                             Take care of yourself.  \n",
       "2414                    https://twitter.com/kaboomskull  \n",
       "2418                                             -  \\n-  \n",
       "\n",
       "[1573 rows x 2 columns]"
      ]
     },
     "execution_count": 4,
     "metadata": {},
     "output_type": "execute_result"
    }
   ],
   "source": [
    "import pysrt\n",
    "import pandas as pd\n",
    "import re\n",
    "from sentence_transformers import SentenceTransformer\n",
    "# install faiss-cpu\n",
    "import faiss\n",
    "import time\n",
    "subs = pysrt.open(\"The.Batman.2022.1080p.WEB-DL.DDP5.1.Atmos.H.264-EVO-HI.srt\")\n",
    "\n",
    "DF = pd.DataFrame([\n",
    "  {\n",
    "    \"Text\": sub.text\n",
    "} for sub in subs])\n",
    "\n",
    "DF\n",
    "def remove_noise(text):\n",
    "    text = re.sub(\"<.*>\", \" \", text)\n",
    "    text = re.sub(\"{.*}\", \" \", text)\n",
    "    text = re.sub(\"\\[.*\\]\", \" \", text)\n",
    "    text = text.strip()\n",
    "    return text\n",
    "\n",
    "DF['clean'] = DF['Text'].apply(remove_noise)\n",
    "\n",
    "DF = DF[DF['clean'] != \"\"]\n",
    "\n",
    "DF\n"
   ]
  },
  {
   "cell_type": "markdown",
   "metadata": {},
   "source": [
    "Create A Search Engine\n",
    "Using each sentence as your “documents”, create a search engine to find specific pieces of text.\n"
   ]
  },
  {
   "cell_type": "code",
   "execution_count": 5,
   "metadata": {},
   "outputs": [
    {
     "name": "stderr",
     "output_type": "stream",
     "text": [
      "C:\\Users\\user7\\AppData\\Roaming\\Python\\Python39\\site-packages\\huggingface_hub\\file_download.py:149: UserWarning: `huggingface_hub` cache-system uses symlinks by default to efficiently store duplicated files but your machine does not support them in C:\\Users\\user7\\.cache\\huggingface\\hub\\models--sentence-transformers--msmarco-MiniLM-L-12-v3. Caching files will still work but in a degraded version that might require more space on your disk. This warning can be disabled by setting the `HF_HUB_DISABLE_SYMLINKS_WARNING` environment variable. For more details, see https://huggingface.co/docs/huggingface_hub/how-to-cache#limitations.\n",
      "To support symlinks on Windows, you either need to activate Developer Mode or to run Python as an administrator. In order to see activate developer mode, see this article: https://docs.microsoft.com/en-us/windows/apps/get-started/enable-your-device-for-development\n",
      "  warnings.warn(message)\n"
     ]
    }
   ],
   "source": [
    "# this is creating the embeddings \n",
    "model = SentenceTransformer('msmarco-MiniLM-L-12-v3')\n",
    "bodies_text_embds = model.encode(DF['clean'].to_list())\n",
    "# Create an index using FAISS\n",
    "index = faiss.IndexFlatL2(bodies_text_embds.shape[1])\n",
    "index.add(bodies_text_embds)\n",
    "faiss.write_index(index, 'index_bodies')\n",
    "\n",
    "bodies_text_embds\n",
    "# define a search \n",
    "def search(query, k):\n",
    "    \n",
    "    t=time.time()\n",
    "    query_vector = model.encode([query])\n",
    "    top_k = index.search(query_vector, k)\n",
    "    print('totaltime: {}'.format(time.time()-t))\n",
    "    return [DF['clean'].to_list()[_id] for _id in top_k[1].tolist()[0]]\n"
   ]
  },
  {
   "cell_type": "markdown",
   "metadata": {},
   "source": [
    "Search for several items."
   ]
  },
  {
   "cell_type": "code",
   "execution_count": 6,
   "metadata": {},
   "outputs": [
    {
     "name": "stdout",
     "output_type": "stream",
     "text": [
      "totaltime: 0.0249330997467041\n",
      "totaltime: 0.019948482513427734\n",
      "totaltime: 0.02592778205871582\n"
     ]
    },
    {
     "data": {
      "text/plain": [
       "['Her body was in his car.',\n",
       " \"Yeah, he's got a car.\",\n",
       " 'Get out of the car!',\n",
       " 'What?',\n",
       " 'What?',\n",
       " 'What?',\n",
       " 'What?',\n",
       " 'What?',\n",
       " 'Get out of the car and show your hands!',\n",
       " '-  \\n-']"
      ]
     },
     "execution_count": 6,
     "metadata": {},
     "output_type": "execute_result"
    }
   ],
   "source": [
    "search(\"cop\", 10)\n",
    "search(\"gun\", 10)\n",
    "search(\"car\", 10)\n"
   ]
  }
 ],
 "metadata": {
  "kernelspec": {
   "display_name": "Python 3",
   "language": "python",
   "name": "python3"
  },
  "language_info": {
   "codemirror_mode": {
    "name": "ipython",
    "version": 3
   },
   "file_extension": ".py",
   "mimetype": "text/x-python",
   "name": "python",
   "nbconvert_exporter": "python",
   "pygments_lexer": "ipython3",
   "version": "3.9.10"
  }
 },
 "nbformat": 4,
 "nbformat_minor": 2
}
